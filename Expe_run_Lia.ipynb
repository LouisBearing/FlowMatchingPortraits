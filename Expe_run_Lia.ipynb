{
 "cells": [
  {
   "cell_type": "code",
   "execution_count": 1,
   "id": "70de57ca-f88e-4d24-abed-b57dd896c3e8",
   "metadata": {},
   "outputs": [
    {
     "name": "stderr",
     "output_type": "stream",
     "text": [
      "/home/lairale/miniconda3/envs/fm/lib/python3.7/site-packages/tqdm/auto.py:21: TqdmWarning: IProgress not found. Please update jupyter and ipywidgets. See https://ipywidgets.readthedocs.io/en/stable/user_install.html\n",
      "  from .autonotebook import tqdm as notebook_tqdm\n"
     ]
    }
   ],
   "source": [
    "import torch\n",
    "import torch.nn as nn\n",
    "import os\n",
    "os.chdir('LIA')\n",
    "from networks.generator import Generator\n",
    "import argparse\n",
    "import numpy as np\n",
    "import torchvision\n",
    "import os\n",
    "from PIL import Image\n",
    "from pathlib import Path\n",
    "from tqdm import tqdm"
   ]
  },
  {
   "cell_type": "code",
   "execution_count": 2,
   "id": "b8ee75ae-a34b-43c9-86d7-9c5f504a694f",
   "metadata": {},
   "outputs": [],
   "source": [
    "from run_demo import Demo"
   ]
  },
  {
   "cell_type": "code",
   "execution_count": 3,
   "id": "462a8231-4a0c-4081-a94b-e7f9bc17946b",
   "metadata": {},
   "outputs": [],
   "source": [
    "arg_dict = dict(model='vox', source_path='./data/vox/test.png', driving_path='./data/vox/driving2.mp4',\n",
    "               size=256, channel_multiplier=1, latent_dim_style=512, latent_dim_motion=20, save_folder='./res')\n",
    "class Arg():\n",
    "    def __init__(self, arg_dict):\n",
    "        for k, v in arg_dict.items():\n",
    "            setattr(self, k, v)\n",
    "args = Arg(arg_dict)"
   ]
  },
  {
   "cell_type": "code",
   "execution_count": 4,
   "id": "1aa8905a-3275-41a5-b97f-278a7588aad9",
   "metadata": {},
   "outputs": [
    {
     "name": "stdout",
     "output_type": "stream",
     "text": [
      "==> loading model\n",
      "==> loading data\n"
     ]
    }
   ],
   "source": [
    "demo = Demo(args)"
   ]
  },
  {
   "cell_type": "code",
   "execution_count": 9,
   "id": "5f641f8f",
   "metadata": {},
   "outputs": [
    {
     "name": "stdout",
     "output_type": "stream",
     "text": [
      "==> running\n"
     ]
    },
    {
     "name": "stderr",
     "output_type": "stream",
     "text": [
      "100%|█████████████████████████████████████████████████████████████████████████████████| 221/221 [00:11<00:00, 19.29it/s]\n"
     ]
    }
   ],
   "source": [
    "demo.run()"
   ]
  },
  {
   "cell_type": "code",
   "execution_count": 10,
   "id": "a8e49e49-786f-4335-9764-12784e84aa96",
   "metadata": {},
   "outputs": [
    {
     "name": "stdout",
     "output_type": "stream",
     "text": [
      "==> running\n"
     ]
    },
    {
     "name": "stderr",
     "output_type": "stream",
     "text": [
      "100%|█████████████████████████████████████████████████████████████████████████████████| 221/221 [00:11<00:00, 20.00it/s]\n"
     ]
    }
   ],
   "source": [
    "print('==> running')\n",
    "with torch.no_grad():\n",
    "\n",
    "    vid_target_recon = []\n",
    "\n",
    "    h_start = demo.gen.enc.enc_motion(demo.vid_target[:, 0, :, :, :])\n",
    "\n",
    "    for i in tqdm(range(demo.vid_target.size(1))):\n",
    "        img_target = demo.vid_target[:, i, :, :, :]\n",
    "        img_recon = demo.gen(demo.img_source, img_target, h_start)\n",
    "        vid_target_recon.append(img_recon.unsqueeze(2))\n",
    "\n",
    "    vid_target_recon = torch.cat(vid_target_recon, dim=2)"
   ]
  },
  {
   "cell_type": "code",
   "execution_count": 11,
   "id": "07835cf0-cf12-42a8-8eba-479d9e5786fe",
   "metadata": {},
   "outputs": [],
   "source": [
    "vid = vid_target_recon.permute(0, 2, 3, 4, 1)\n",
    "vid = vid.clamp(-1, 1).cpu()\n",
    "vid = ((vid - vid.min()) / (vid.max() - vid.min()) * 255).type('torch.ByteTensor')"
   ]
  },
  {
   "cell_type": "code",
   "execution_count": 13,
   "id": "e214b2e5-158f-4e69-a827-8b1b1583e848",
   "metadata": {},
   "outputs": [],
   "source": [
    "torchvision.io.write_video(demo.save_path, vid[0], fps=demo.fps)"
   ]
  },
  {
   "cell_type": "code",
   "execution_count": null,
   "id": "1b09cb08-1ed1-4c16-9546-ecbf7e93a762",
   "metadata": {},
   "outputs": [],
   "source": []
  },
  {
   "cell_type": "code",
   "execution_count": null,
   "id": "aaa7f972-712f-4c8f-a605-edb0c6c569e9",
   "metadata": {},
   "outputs": [],
   "source": []
  }
 ],
 "metadata": {
  "kernelspec": {
   "display_name": "Python 3 (ipykernel)",
   "language": "python",
   "name": "python3"
  },
  "language_info": {
   "codemirror_mode": {
    "name": "ipython",
    "version": 3
   },
   "file_extension": ".py",
   "mimetype": "text/x-python",
   "name": "python",
   "nbconvert_exporter": "python",
   "pygments_lexer": "ipython3",
   "version": "3.7.16"
  }
 },
 "nbformat": 4,
 "nbformat_minor": 5
}
